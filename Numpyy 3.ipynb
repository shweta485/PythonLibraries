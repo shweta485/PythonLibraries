{
 "cells": [
  {
   "cell_type": "code",
   "execution_count": null,
   "id": "0ffe6685",
   "metadata": {},
   "outputs": [],
   "source": [
    "# importing numpy module"
   ]
  },
  {
   "cell_type": "code",
   "execution_count": 5,
   "id": "2f3efc5d",
   "metadata": {},
   "outputs": [],
   "source": [
    "import numpy as np"
   ]
  },
  {
   "cell_type": "code",
   "execution_count": 6,
   "id": "3a8fc1d9",
   "metadata": {},
   "outputs": [],
   "source": [
    "a = \"samir\""
   ]
  },
  {
   "cell_type": "code",
   "execution_count": 7,
   "id": "e33c97dd",
   "metadata": {
    "scrolled": true
   },
   "outputs": [
    {
     "data": {
      "text/plain": [
       "str"
      ]
     },
     "execution_count": 7,
     "metadata": {},
     "output_type": "execute_result"
    }
   ],
   "source": [
    "type(a)"
   ]
  },
  {
   "cell_type": "code",
   "execution_count": null,
   "id": "ac3a63ec",
   "metadata": {},
   "outputs": [],
   "source": [
    "# creating numpy array"
   ]
  },
  {
   "cell_type": "code",
   "execution_count": 8,
   "id": "418d74a1",
   "metadata": {},
   "outputs": [],
   "source": [
    "a1 = np.array(a)"
   ]
  },
  {
   "cell_type": "code",
   "execution_count": 9,
   "id": "8769ba88",
   "metadata": {},
   "outputs": [
    {
     "data": {
      "text/plain": [
       "array('samir', dtype='<U5')"
      ]
     },
     "execution_count": 9,
     "metadata": {},
     "output_type": "execute_result"
    }
   ],
   "source": [
    "a1"
   ]
  },
  {
   "cell_type": "code",
   "execution_count": 10,
   "id": "af3c4502",
   "metadata": {},
   "outputs": [],
   "source": [
    "a = (1,2,3,4)"
   ]
  },
  {
   "cell_type": "code",
   "execution_count": 11,
   "id": "13117e76",
   "metadata": {
    "scrolled": true
   },
   "outputs": [
    {
     "data": {
      "text/plain": [
       "tuple"
      ]
     },
     "execution_count": 11,
     "metadata": {},
     "output_type": "execute_result"
    }
   ],
   "source": [
    "type(a)"
   ]
  },
  {
   "cell_type": "code",
   "execution_count": 12,
   "id": "e6ce70e4",
   "metadata": {},
   "outputs": [],
   "source": [
    "a1 = np.array(a)"
   ]
  },
  {
   "cell_type": "code",
   "execution_count": 13,
   "id": "dff666e2",
   "metadata": {},
   "outputs": [
    {
     "data": {
      "text/plain": [
       "array([1, 2, 3, 4])"
      ]
     },
     "execution_count": 13,
     "metadata": {},
     "output_type": "execute_result"
    }
   ],
   "source": [
    "a1"
   ]
  },
  {
   "cell_type": "code",
   "execution_count": 14,
   "id": "14993a4c",
   "metadata": {},
   "outputs": [],
   "source": [
    "a = {\"Name\":\"shweta\",\"email\":\"thorat0202\",\"phone\":\"8080376170\"}"
   ]
  },
  {
   "cell_type": "code",
   "execution_count": 15,
   "id": "8dd7a671",
   "metadata": {},
   "outputs": [
    {
     "data": {
      "text/plain": [
       "dict"
      ]
     },
     "execution_count": 15,
     "metadata": {},
     "output_type": "execute_result"
    }
   ],
   "source": [
    "type(a)"
   ]
  },
  {
   "cell_type": "code",
   "execution_count": 16,
   "id": "206e7096",
   "metadata": {},
   "outputs": [],
   "source": [
    "a1 = np.array(a)"
   ]
  },
  {
   "cell_type": "code",
   "execution_count": 17,
   "id": "a612f863",
   "metadata": {},
   "outputs": [
    {
     "data": {
      "text/plain": [
       "array({'Name': 'shweta', 'email': 'thorat0202', 'phone': '8080376170'},\n",
       "      dtype=object)"
      ]
     },
     "execution_count": 17,
     "metadata": {},
     "output_type": "execute_result"
    }
   ],
   "source": [
    "a1"
   ]
  },
  {
   "cell_type": "code",
   "execution_count": 18,
   "id": "129d8b2b",
   "metadata": {},
   "outputs": [],
   "source": [
    "a = np.arange(1,10).reshape(3,3)"
   ]
  },
  {
   "cell_type": "code",
   "execution_count": 19,
   "id": "38c59e7a",
   "metadata": {},
   "outputs": [
    {
     "data": {
      "text/plain": [
       "array([[1, 2, 3],\n",
       "       [4, 5, 6],\n",
       "       [7, 8, 9]])"
      ]
     },
     "execution_count": 19,
     "metadata": {},
     "output_type": "execute_result"
    }
   ],
   "source": [
    "a"
   ]
  },
  {
   "cell_type": "code",
   "execution_count": 20,
   "id": "26ca4e3c",
   "metadata": {},
   "outputs": [],
   "source": [
    "a1 = np.arange(1,10).reshape(3,3)"
   ]
  },
  {
   "cell_type": "code",
   "execution_count": 21,
   "id": "52513a96",
   "metadata": {},
   "outputs": [
    {
     "data": {
      "text/plain": [
       "array([[1, 2, 3],\n",
       "       [4, 5, 6],\n",
       "       [7, 8, 9]])"
      ]
     },
     "execution_count": 21,
     "metadata": {},
     "output_type": "execute_result"
    }
   ],
   "source": [
    "a1"
   ]
  },
  {
   "cell_type": "code",
   "execution_count": null,
   "id": "e5387bf0",
   "metadata": {},
   "outputs": [],
   "source": [
    "#  It Multiplies the values of a DataFrame with values from another array-like object, and add the result"
   ]
  },
  {
   "cell_type": "code",
   "execution_count": 22,
   "id": "8deb21eb",
   "metadata": {},
   "outputs": [
    {
     "data": {
      "text/plain": [
       "array([[ 30,  36,  42],\n",
       "       [ 66,  81,  96],\n",
       "       [102, 126, 150]])"
      ]
     },
     "execution_count": 22,
     "metadata": {},
     "output_type": "execute_result"
    }
   ],
   "source": [
    "np.dot(a,a1)"
   ]
  },
  {
   "cell_type": "code",
   "execution_count": 23,
   "id": "eb548e04",
   "metadata": {},
   "outputs": [
    {
     "data": {
      "text/plain": [
       "array([[ 1,  2,  3,  4],\n",
       "       [ 5,  6,  7,  8],\n",
       "       [ 9, 10, 11, 12],\n",
       "       [13, 14, 15, 16]])"
      ]
     },
     "execution_count": 23,
     "metadata": {},
     "output_type": "execute_result"
    }
   ],
   "source": [
    "a = np.arange(1,17).reshape(4,4)\n",
    "a"
   ]
  },
  {
   "cell_type": "code",
   "execution_count": 24,
   "id": "c216409b",
   "metadata": {},
   "outputs": [
    {
     "data": {
      "text/plain": [
       "array([[17, 18, 19, 20],\n",
       "       [21, 22, 23, 24],\n",
       "       [25, 26, 27, 28],\n",
       "       [29, 30, 31, 32]])"
      ]
     },
     "execution_count": 24,
     "metadata": {},
     "output_type": "execute_result"
    }
   ],
   "source": [
    "a1 = np.arange(17,33).reshape(4,4)\n",
    "a1"
   ]
  },
  {
   "cell_type": "code",
   "execution_count": null,
   "id": "7793999d",
   "metadata": {},
   "outputs": [],
   "source": [
    "# Join a sequence of arrays along an existing axis."
   ]
  },
  {
   "cell_type": "code",
   "execution_count": 25,
   "id": "388f4771",
   "metadata": {},
   "outputs": [
    {
     "data": {
      "text/plain": [
       "array([[ 1,  2,  3,  4],\n",
       "       [ 5,  6,  7,  8],\n",
       "       [ 9, 10, 11, 12],\n",
       "       [13, 14, 15, 16],\n",
       "       [17, 18, 19, 20],\n",
       "       [21, 22, 23, 24],\n",
       "       [25, 26, 27, 28],\n",
       "       [29, 30, 31, 32]])"
      ]
     },
     "execution_count": 25,
     "metadata": {},
     "output_type": "execute_result"
    }
   ],
   "source": [
    "np.concatenate((a,a1))"
   ]
  },
  {
   "cell_type": "code",
   "execution_count": 26,
   "id": "feb17219",
   "metadata": {},
   "outputs": [
    {
     "data": {
      "text/plain": [
       "array([[ 1,  2,  3,  4, 17, 18, 19, 20],\n",
       "       [ 5,  6,  7,  8, 21, 22, 23, 24],\n",
       "       [ 9, 10, 11, 12, 25, 26, 27, 28],\n",
       "       [13, 14, 15, 16, 29, 30, 31, 32]])"
      ]
     },
     "execution_count": 26,
     "metadata": {},
     "output_type": "execute_result"
    }
   ],
   "source": [
    "np.hstack((a,a1))"
   ]
  },
  {
   "cell_type": "code",
   "execution_count": 27,
   "id": "d3fdd1dd",
   "metadata": {},
   "outputs": [
    {
     "data": {
      "text/plain": [
       "array([[ 1,  2,  3,  4],\n",
       "       [ 5,  6,  7,  8],\n",
       "       [ 9, 10, 11, 12],\n",
       "       [13, 14, 15, 16],\n",
       "       [17, 18, 19, 20],\n",
       "       [21, 22, 23, 24],\n",
       "       [25, 26, 27, 28],\n",
       "       [29, 30, 31, 32]])"
      ]
     },
     "execution_count": 27,
     "metadata": {},
     "output_type": "execute_result"
    }
   ],
   "source": [
    "np.vstack((a,a1))"
   ]
  },
  {
   "cell_type": "code",
   "execution_count": 28,
   "id": "22962352",
   "metadata": {},
   "outputs": [
    {
     "data": {
      "text/plain": [
       "array([[ 1,  2,  3,  4],\n",
       "       [ 5,  6,  7,  8],\n",
       "       [ 9, 10, 11, 12],\n",
       "       [13, 14, 15, 16]])"
      ]
     },
     "execution_count": 28,
     "metadata": {},
     "output_type": "execute_result"
    }
   ],
   "source": [
    "a"
   ]
  },
  {
   "cell_type": "code",
   "execution_count": null,
   "id": "53f95439",
   "metadata": {},
   "outputs": [],
   "source": [
    "# Split array into multiple sub-arrays of equal size."
   ]
  },
  {
   "cell_type": "code",
   "execution_count": 29,
   "id": "c50aef05",
   "metadata": {},
   "outputs": [
    {
     "data": {
      "text/plain": [
       "[array([[1, 2, 3, 4],\n",
       "        [5, 6, 7, 8]]),\n",
       " array([[ 9, 10, 11, 12],\n",
       "        [13, 14, 15, 16]])]"
      ]
     },
     "execution_count": 29,
     "metadata": {},
     "output_type": "execute_result"
    }
   ],
   "source": [
    "np.split(a,2)"
   ]
  },
  {
   "cell_type": "code",
   "execution_count": 30,
   "id": "8cb78810",
   "metadata": {},
   "outputs": [
    {
     "data": {
      "text/plain": [
       "[array([[1, 2, 3, 4]]),\n",
       " array([[5, 6, 7, 8]]),\n",
       " array([[ 9, 10, 11, 12]]),\n",
       " array([[13, 14, 15, 16]])]"
      ]
     },
     "execution_count": 30,
     "metadata": {},
     "output_type": "execute_result"
    }
   ],
   "source": [
    "np.split(a,4)"
   ]
  },
  {
   "cell_type": "code",
   "execution_count": 31,
   "id": "e6638c99",
   "metadata": {},
   "outputs": [
    {
     "ename": "ValueError",
     "evalue": "array split does not result in an equal division",
     "output_type": "error",
     "traceback": [
      "\u001b[1;31m---------------------------------------------------------------------------\u001b[0m",
      "\u001b[1;31mValueError\u001b[0m                                Traceback (most recent call last)",
      "Input \u001b[1;32mIn [31]\u001b[0m, in \u001b[0;36m<cell line: 1>\u001b[1;34m()\u001b[0m\n\u001b[1;32m----> 1\u001b[0m \u001b[43mnp\u001b[49m\u001b[38;5;241;43m.\u001b[39;49m\u001b[43msplit\u001b[49m\u001b[43m(\u001b[49m\u001b[43ma\u001b[49m\u001b[43m,\u001b[49m\u001b[38;5;241;43m3\u001b[39;49m\u001b[43m)\u001b[49m\n",
      "File \u001b[1;32m<__array_function__ internals>:5\u001b[0m, in \u001b[0;36msplit\u001b[1;34m(*args, **kwargs)\u001b[0m\n",
      "File \u001b[1;32m~\\anaconda3\\lib\\site-packages\\numpy\\lib\\shape_base.py:872\u001b[0m, in \u001b[0;36msplit\u001b[1;34m(ary, indices_or_sections, axis)\u001b[0m\n\u001b[0;32m    870\u001b[0m     N \u001b[38;5;241m=\u001b[39m ary\u001b[38;5;241m.\u001b[39mshape[axis]\n\u001b[0;32m    871\u001b[0m     \u001b[38;5;28;01mif\u001b[39;00m N \u001b[38;5;241m%\u001b[39m sections:\n\u001b[1;32m--> 872\u001b[0m         \u001b[38;5;28;01mraise\u001b[39;00m \u001b[38;5;167;01mValueError\u001b[39;00m(\n\u001b[0;32m    873\u001b[0m             \u001b[38;5;124m'\u001b[39m\u001b[38;5;124marray split does not result in an equal division\u001b[39m\u001b[38;5;124m'\u001b[39m) \u001b[38;5;28;01mfrom\u001b[39;00m \u001b[38;5;28mNone\u001b[39m\n\u001b[0;32m    874\u001b[0m \u001b[38;5;28;01mreturn\u001b[39;00m array_split(ary, indices_or_sections, axis)\n",
      "\u001b[1;31mValueError\u001b[0m: array split does not result in an equal division"
     ]
    }
   ],
   "source": [
    "np.split(a,3)"
   ]
  },
  {
   "cell_type": "code",
   "execution_count": 32,
   "id": "21edeaad",
   "metadata": {},
   "outputs": [
    {
     "data": {
      "text/plain": [
       "[array([[ 1,  2],\n",
       "        [ 5,  6],\n",
       "        [ 9, 10],\n",
       "        [13, 14]]),\n",
       " array([[ 3,  4],\n",
       "        [ 7,  8],\n",
       "        [11, 12],\n",
       "        [15, 16]])]"
      ]
     },
     "execution_count": 32,
     "metadata": {},
     "output_type": "execute_result"
    }
   ],
   "source": [
    "np.split(a,2, axis = 1)"
   ]
  },
  {
   "cell_type": "code",
   "execution_count": 33,
   "id": "10ae9e50",
   "metadata": {},
   "outputs": [],
   "source": [
    "sp = np.split(a,2,axis = 0)"
   ]
  },
  {
   "cell_type": "code",
   "execution_count": 34,
   "id": "15beefa6",
   "metadata": {},
   "outputs": [
    {
     "data": {
      "text/plain": [
       "[array([[1, 2, 3, 4],\n",
       "        [5, 6, 7, 8]]),\n",
       " array([[ 9, 10, 11, 12],\n",
       "        [13, 14, 15, 16]])]"
      ]
     },
     "execution_count": 34,
     "metadata": {},
     "output_type": "execute_result"
    }
   ],
   "source": [
    "sp"
   ]
  },
  {
   "cell_type": "code",
   "execution_count": 35,
   "id": "e590c55f",
   "metadata": {},
   "outputs": [
    {
     "data": {
      "text/plain": [
       "array([[1, 2, 3, 4],\n",
       "       [5, 6, 7, 8]])"
      ]
     },
     "execution_count": 35,
     "metadata": {},
     "output_type": "execute_result"
    }
   ],
   "source": [
    "sp[0]"
   ]
  },
  {
   "cell_type": "code",
   "execution_count": 36,
   "id": "c85ecae9",
   "metadata": {},
   "outputs": [
    {
     "data": {
      "text/plain": [
       "array([[ 9, 10, 11, 12],\n",
       "       [13, 14, 15, 16]])"
      ]
     },
     "execution_count": 36,
     "metadata": {},
     "output_type": "execute_result"
    }
   ],
   "source": [
    "sp[1]"
   ]
  },
  {
   "cell_type": "code",
   "execution_count": 37,
   "id": "1b333e4b",
   "metadata": {},
   "outputs": [
    {
     "data": {
      "text/plain": [
       "list"
      ]
     },
     "execution_count": 37,
     "metadata": {},
     "output_type": "execute_result"
    }
   ],
   "source": [
    "type(sp)"
   ]
  },
  {
   "cell_type": "code",
   "execution_count": null,
   "id": "4210775a",
   "metadata": {},
   "outputs": [],
   "source": [
    "# We use array_split() for splitting arrays, we pass it the array we want to split and the number of splits."
   ]
  },
  {
   "cell_type": "code",
   "execution_count": 38,
   "id": "b352d4a0",
   "metadata": {},
   "outputs": [
    {
     "data": {
      "text/plain": [
       "array([11, 21, 31, 43, 55, 66, 71, 64, 84, 96, 23])"
      ]
     },
     "execution_count": 38,
     "metadata": {},
     "output_type": "execute_result"
    }
   ],
   "source": [
    "s = np.array([11,21,31,43,55,66,71,64,84,96,23])\n",
    "s"
   ]
  },
  {
   "cell_type": "code",
   "execution_count": 39,
   "id": "2473b597",
   "metadata": {},
   "outputs": [
    {
     "data": {
      "text/plain": [
       "[array([11, 21]), array([31, 43, 55, 66, 71, 64, 84, 96, 23])]"
      ]
     },
     "execution_count": 39,
     "metadata": {},
     "output_type": "execute_result"
    }
   ],
   "source": [
    "np.split(s,[2])"
   ]
  },
  {
   "cell_type": "code",
   "execution_count": 40,
   "id": "d9fcbdce",
   "metadata": {},
   "outputs": [
    {
     "data": {
      "text/plain": [
       "[array([11, 21]), array([31, 43, 55, 66, 71]), array([64, 84, 96, 23])]"
      ]
     },
     "execution_count": 40,
     "metadata": {},
     "output_type": "execute_result"
    }
   ],
   "source": [
    "np.split(s,[2,7])"
   ]
  },
  {
   "cell_type": "code",
   "execution_count": 41,
   "id": "40e2ac4e",
   "metadata": {},
   "outputs": [
    {
     "data": {
      "text/plain": [
       "[array([11, 21]),\n",
       " array([31, 43, 55, 66, 71, 64, 84, 96, 23]),\n",
       " array([], dtype=int32)]"
      ]
     },
     "execution_count": 41,
     "metadata": {},
     "output_type": "execute_result"
    }
   ],
   "source": [
    "np.split(s,[2,17])"
   ]
  },
  {
   "cell_type": "raw",
   "id": "506c69d0",
   "metadata": {},
   "source": [
    "random()\n",
    "randint()\n",
    "randrange()\n",
    "choice()"
   ]
  },
  {
   "cell_type": "code",
   "execution_count": 42,
   "id": "a4524fa4",
   "metadata": {},
   "outputs": [
    {
     "data": {
      "text/plain": [
       "array([0.76740306, 0.50856805, 0.36455877, 0.60503303, 0.48763459])"
      ]
     },
     "execution_count": 42,
     "metadata": {},
     "output_type": "execute_result"
    }
   ],
   "source": [
    "np.random.random(5)"
   ]
  },
  {
   "cell_type": "code",
   "execution_count": 43,
   "id": "b796c3f3",
   "metadata": {},
   "outputs": [
    {
     "data": {
      "text/plain": [
       "array([[0.86756608, 0.01243197, 0.88097644],\n",
       "       [0.4251817 , 0.56769711, 0.23502357],\n",
       "       [0.90899224, 0.49373503, 0.49920776]])"
      ]
     },
     "execution_count": 43,
     "metadata": {},
     "output_type": "execute_result"
    }
   ],
   "source": [
    "np.random.random((3,3))"
   ]
  },
  {
   "cell_type": "code",
   "execution_count": 44,
   "id": "514780fe",
   "metadata": {},
   "outputs": [
    {
     "data": {
      "text/plain": [
       "array([[[0.41151336, 0.27553082, 0.45077802],\n",
       "        [0.01392583, 0.43904385, 0.77222657],\n",
       "        [0.06582838, 0.95450336, 0.60640431]],\n",
       "\n",
       "       [[0.54093744, 0.20466808, 0.75036729],\n",
       "        [0.67515562, 0.90160856, 0.09367588],\n",
       "        [0.61732057, 0.50628365, 0.794092  ]]])"
      ]
     },
     "execution_count": 44,
     "metadata": {},
     "output_type": "execute_result"
    }
   ],
   "source": [
    "np.random.random((2,3,3))"
   ]
  },
  {
   "cell_type": "code",
   "execution_count": 45,
   "id": "2e0b8562",
   "metadata": {},
   "outputs": [
    {
     "data": {
      "text/plain": [
       "array([[25, 30, 40, 29],\n",
       "       [26, 36, 29, 37]])"
      ]
     },
     "execution_count": 45,
     "metadata": {},
     "output_type": "execute_result"
    }
   ],
   "source": [
    "np.random.randint(25,45,(2,4))"
   ]
  },
  {
   "cell_type": "code",
   "execution_count": 46,
   "id": "c3723e7c",
   "metadata": {},
   "outputs": [
    {
     "data": {
      "text/plain": [
       "array([[[25, 25, 32, 31],\n",
       "        [42, 27, 43, 41],\n",
       "        [27, 37, 33, 44]],\n",
       "\n",
       "       [[41, 26, 28, 44],\n",
       "        [34, 32, 39, 30],\n",
       "        [31, 36, 29, 33]]])"
      ]
     },
     "execution_count": 46,
     "metadata": {},
     "output_type": "execute_result"
    }
   ],
   "source": [
    "np.random.randint(25,45,(2,3,4))"
   ]
  },
  {
   "cell_type": "code",
   "execution_count": 47,
   "id": "78e867cd",
   "metadata": {},
   "outputs": [],
   "source": [
    "a = np.linspace(1,15,25)"
   ]
  },
  {
   "cell_type": "code",
   "execution_count": 48,
   "id": "5f9aabb2",
   "metadata": {},
   "outputs": [
    {
     "data": {
      "text/plain": [
       "array([ 1.        ,  1.58333333,  2.16666667,  2.75      ,  3.33333333,\n",
       "        3.91666667,  4.5       ,  5.08333333,  5.66666667,  6.25      ,\n",
       "        6.83333333,  7.41666667,  8.        ,  8.58333333,  9.16666667,\n",
       "        9.75      , 10.33333333, 10.91666667, 11.5       , 12.08333333,\n",
       "       12.66666667, 13.25      , 13.83333333, 14.41666667, 15.        ])"
      ]
     },
     "execution_count": 48,
     "metadata": {},
     "output_type": "execute_result"
    }
   ],
   "source": [
    "a"
   ]
  },
  {
   "cell_type": "code",
   "execution_count": 49,
   "id": "ddb8cd70",
   "metadata": {},
   "outputs": [
    {
     "data": {
      "text/plain": [
       "13.25"
      ]
     },
     "execution_count": 49,
     "metadata": {},
     "output_type": "execute_result"
    }
   ],
   "source": [
    "np.random.choice(a)"
   ]
  },
  {
   "cell_type": "code",
   "execution_count": 50,
   "id": "f3d5cf7e",
   "metadata": {},
   "outputs": [
    {
     "data": {
      "text/plain": [
       "array([[2.16666667, 8.        ],\n",
       "       [3.33333333, 8.        ]])"
      ]
     },
     "execution_count": 50,
     "metadata": {},
     "output_type": "execute_result"
    }
   ],
   "source": [
    "np.random.choice(a,(2,2))"
   ]
  },
  {
   "cell_type": "code",
   "execution_count": 51,
   "id": "7eeb44c6",
   "metadata": {},
   "outputs": [
    {
     "data": {
      "text/plain": [
       "array([ 9.16666667,  6.25      ,  3.91666667,  1.58333333, 14.41666667,\n",
       "       12.66666667,  9.75      ,  7.41666667,  6.83333333, 13.83333333,\n",
       "        8.        , 10.91666667, 10.33333333, 11.5       ,  1.        ,\n",
       "        4.5       ,  5.08333333,  2.16666667,  3.33333333,  2.75      ,\n",
       "        5.66666667, 15.        , 12.08333333, 13.25      ,  8.58333333])"
      ]
     },
     "execution_count": 51,
     "metadata": {},
     "output_type": "execute_result"
    }
   ],
   "source": [
    "np.random.permutation(a)\n"
   ]
  },
  {
   "cell_type": "code",
   "execution_count": 52,
   "id": "87960e5b",
   "metadata": {},
   "outputs": [
    {
     "data": {
      "text/plain": [
       "array([[13.83333333, 13.25      ],\n",
       "       [ 9.16666667,  6.83333333]])"
      ]
     },
     "execution_count": 52,
     "metadata": {},
     "output_type": "execute_result"
    }
   ],
   "source": [
    "np.random.permutation(a)\n",
    "np.random.choice(a,(2,2))        "
   ]
  },
  {
   "cell_type": "code",
   "execution_count": 53,
   "id": "21ef31b5",
   "metadata": {},
   "outputs": [],
   "source": [
    "a = np.random.uniform(1,100,250)"
   ]
  },
  {
   "cell_type": "code",
   "execution_count": 54,
   "id": "bc630d5d",
   "metadata": {},
   "outputs": [
    {
     "data": {
      "text/plain": [
       "array([31.46873841, 61.60745972, 75.69594631, 52.54788776, 82.52087023,\n",
       "       71.18664724, 15.7534008 , 17.72403533, 36.2562482 , 51.69451465,\n",
       "       66.43201656,  3.16432717, 95.62407258, 99.45000428, 29.38518278,\n",
       "       42.74629602, 92.69008626, 79.75868785, 57.64925851, 29.15805602,\n",
       "       15.67488831, 72.75604664, 50.22861175, 56.8220529 , 29.30391675,\n",
       "       90.02308974, 28.45683356, 65.74395114, 28.61688081, 96.09871245,\n",
       "       24.75857799, 62.50925869, 74.13214548, 36.41414783,  5.49621573,\n",
       "       63.86155547, 25.65049099, 61.41743913, 44.28705744, 46.52218272,\n",
       "       29.33007139, 69.99705448, 66.6047199 ,  7.42805581,  9.87393879,\n",
       "       97.33339183, 41.85918291, 67.40459488, 47.44863633, 92.29394302,\n",
       "       10.01453326, 33.05563789, 81.68116576, 89.93610651, 30.56078923,\n",
       "       12.32143508, 31.00850721, 24.09909801, 31.35280667, 40.20542683,\n",
       "       15.34362203, 69.75495729, 62.16639654, 33.24591917, 15.70468209,\n",
       "       34.18550297, 52.07453984, 90.92816535, 50.33840128, 88.91120808,\n",
       "       82.16920518, 15.98199203, 85.40980512, 56.80734507, 52.69957403,\n",
       "       77.31051868, 19.9205548 ,  8.11981368, 95.20294339, 56.17868423,\n",
       "       53.96062091, 80.35225712, 63.78924431, 26.23300598, 96.86661907,\n",
       "        3.28765617,  8.25124015, 62.86030626,  6.35346983, 90.15381264,\n",
       "        4.73221536, 53.12306836, 65.32381839, 35.65684133, 77.80689747,\n",
       "       24.95686471, 38.48256351, 27.10238003, 27.40002259, 24.98419314,\n",
       "       21.40557942, 62.4215564 , 38.93882049, 70.81646254, 17.82243341,\n",
       "       42.39597648, 97.56338879, 13.09667661, 97.39828014, 52.02666048,\n",
       "       60.66217731, 19.30623834, 51.26486117, 84.60770235, 56.45391274,\n",
       "       88.5310974 , 11.98358536, 83.59278384, 82.29052972, 34.79063069,\n",
       "       26.9706931 , 27.36251771, 83.56339546, 58.94268731, 98.79972485,\n",
       "       18.01369486, 59.14282796, 79.43282631,  1.98032942, 96.27065871,\n",
       "       87.79394205, 63.52888019, 77.04553258, 53.06732463, 50.68092543,\n",
       "       27.2680234 ,  2.05333045, 44.2757592 , 47.77095363, 37.47574991,\n",
       "       47.13588938, 62.7993111 , 22.86324283, 66.36977087, 11.86455742,\n",
       "       70.61476886, 45.28641365, 61.49505354,  7.48911357, 92.17887527,\n",
       "       25.25146793, 63.77789878, 26.32673375, 73.2696302 , 53.20390856,\n",
       "       81.19754653, 63.03200956, 62.69099976, 67.56285879, 65.5494325 ,\n",
       "       58.13596977, 12.22538254, 21.93974981, 89.65097928, 41.08101888,\n",
       "       83.67854882, 29.43999668, 72.83815704, 64.61424595, 37.86556657,\n",
       "        3.48840289, 81.48058968, 70.73552677, 16.77654663, 86.54566107,\n",
       "        1.73287103, 30.05772967, 30.05209171, 63.54501942, 88.57923286,\n",
       "       73.79939941,  1.51086053, 87.24976592,  8.51461108, 98.1345785 ,\n",
       "       33.03716301, 67.50811225, 69.10031957, 63.57485249,  4.18704142,\n",
       "       29.51556214, 69.19816185, 11.40359782,  6.11023194, 76.10312265,\n",
       "       60.40763954,  4.1411755 , 36.43119748, 42.1012754 , 56.30343554,\n",
       "       61.30379944, 77.05519621, 96.81939162, 73.95247453, 67.21773667,\n",
       "       40.64795932, 83.85263082, 93.73301015, 94.48795721,  5.55874398,\n",
       "       44.05703954, 82.65031401, 12.91117934, 47.90713493, 41.31824615,\n",
       "       85.49507507, 12.56567122, 16.91714303, 40.54933748, 60.95704718,\n",
       "       19.00009959, 77.55297686,  4.32575387, 92.63231041, 80.97634838,\n",
       "       12.47309218, 43.9795943 , 68.56719093, 96.44361355, 83.89583876,\n",
       "       10.24498106, 46.33461168, 94.89897183, 53.88239853, 93.29739086,\n",
       "        5.58602243, 63.63389712, 35.37052296, 79.26062864, 74.52634361,\n",
       "       40.05156088,  9.24458899, 23.66621031, 16.64561495, 95.90225008,\n",
       "       46.3551656 , 74.99004547, 24.72024381, 29.93877404, 62.66264679])"
      ]
     },
     "execution_count": 54,
     "metadata": {},
     "output_type": "execute_result"
    }
   ],
   "source": [
    "a"
   ]
  },
  {
   "cell_type": "code",
   "execution_count": 55,
   "id": "3ba61324",
   "metadata": {},
   "outputs": [],
   "source": [
    "import matplotlib.pyplot as plt"
   ]
  },
  {
   "cell_type": "code",
   "execution_count": 56,
   "id": "9022fe07",
   "metadata": {},
   "outputs": [
    {
     "data": {
      "text/plain": [
       "(array([18., 16., 14., 18., 18., 15., 15., 15., 11., 29., 16., 15., 17.,\n",
       "        15., 18.]),\n",
       " array([ 1.51086053,  8.04013678, 14.56941303, 21.09868928, 27.62796553,\n",
       "        34.15724178, 40.68651803, 47.21579428, 53.74507053, 60.27434678,\n",
       "        66.80362303, 73.33289928, 79.86217553, 86.39145178, 92.92072803,\n",
       "        99.45000428]),\n",
       " <BarContainer object of 15 artists>)"
      ]
     },
     "execution_count": 56,
     "metadata": {},
     "output_type": "execute_result"
    },
    {
     "data": {
      "image/png": "[encoded data removed]",
      "text/plain": [
       "<Figure size 432x288 with 1 Axes>"
      ]
     },
     "metadata": {
      "needs_background": "light"
     },
     "output_type": "display_data"
    }
   ],
   "source": [
    "plt.hist(a,bins = 15)"
   ]
  },
  {
   "cell_type": "code",
   "execution_count": 57,
   "id": "a8d95f74",
   "metadata": {},
   "outputs": [],
   "source": [
    "b = np.random.normal(20,5,100)"
   ]
  },
  {
   "cell_type": "code",
   "execution_count": 58,
   "id": "15629b9f",
   "metadata": {},
   "outputs": [
    {
     "data": {
      "text/plain": [
       "(array([ 1.,  4.,  7., 10., 14., 13., 11., 14., 15.,  6.,  3.,  1.,  0.,\n",
       "         0.,  1.]),\n",
       " array([ 8.24329707, 10.17423502, 12.10517298, 14.03611093, 15.96704888,\n",
       "        17.89798683, 19.82892479, 21.75986274, 23.69080069, 25.62173864,\n",
       "        27.55267659, 29.48361455, 31.4145525 , 33.34549045, 35.2764284 ,\n",
       "        37.20736636]),\n",
       " <BarContainer object of 15 artists>)"
      ]
     },
     "execution_count": 58,
     "metadata": {},
     "output_type": "execute_result"
    },
    {
     "data": {
      "image/png": "[encoded data removed]",
      "text/plain": [
       "<Figure size 432x288 with 1 Axes>"
      ]
     },
     "metadata": {
      "needs_background": "light"
     },
     "output_type": "display_data"
    }
   ],
   "source": [
    "plt.hist(b,bins=15 )"
   ]
  },
  {
   "cell_type": "code",
   "execution_count": 59,
   "id": "7ed3b280",
   "metadata": {},
   "outputs": [],
   "source": [
    "s = \"python\"\n",
    "s1 = \"Data science\""
   ]
  },
  {
   "cell_type": "code",
   "execution_count": 60,
   "id": "71066bad",
   "metadata": {},
   "outputs": [
    {
     "data": {
      "text/plain": [
       "array('pythonData science', dtype='<U18')"
      ]
     },
     "execution_count": 60,
     "metadata": {},
     "output_type": "execute_result"
    }
   ],
   "source": [
    "np.char.add(s,s1)"
   ]
  },
  {
   "cell_type": "code",
   "execution_count": 61,
   "id": "6b66cc89",
   "metadata": {},
   "outputs": [
    {
     "data": {
      "text/plain": [
       "array('python', dtype='<U6')"
      ]
     },
     "execution_count": 61,
     "metadata": {},
     "output_type": "execute_result"
    }
   ],
   "source": [
    "np.char.lower(s)"
   ]
  },
  {
   "cell_type": "code",
   "execution_count": 62,
   "id": "05c2a522",
   "metadata": {},
   "outputs": [
    {
     "data": {
      "text/plain": [
       "array('DATA SCIENCE', dtype='<U12')"
      ]
     },
     "execution_count": 62,
     "metadata": {},
     "output_type": "execute_result"
    }
   ],
   "source": [
    "np.char.upper(s1)"
   ]
  },
  {
   "cell_type": "code",
   "execution_count": 63,
   "id": "ac47183e",
   "metadata": {},
   "outputs": [
    {
     "data": {
      "text/plain": [
       "array('*******python*******', dtype='<U20')"
      ]
     },
     "execution_count": 63,
     "metadata": {},
     "output_type": "execute_result"
    }
   ],
   "source": [
    "np.char.center(s,20,'*')"
   ]
  },
  {
   "cell_type": "code",
   "execution_count": 64,
   "id": "e5dfb5e4",
   "metadata": {},
   "outputs": [
    {
     "data": {
      "text/plain": [
       "array(list(['Data', 'science']), dtype=object)"
      ]
     },
     "execution_count": 64,
     "metadata": {},
     "output_type": "execute_result"
    }
   ],
   "source": [
    "np.char.split(s1)"
   ]
  },
  {
   "cell_type": "code",
   "execution_count": 65,
   "id": "f5793115",
   "metadata": {},
   "outputs": [
    {
     "data": {
      "text/plain": [
       "array('Data science', dtype='<U12')"
      ]
     },
     "execution_count": 65,
     "metadata": {},
     "output_type": "execute_result"
    }
   ],
   "source": [
    "np.char.lstrip(s1)"
   ]
  },
  {
   "cell_type": "code",
   "execution_count": 66,
   "id": "9ca2a26a",
   "metadata": {},
   "outputs": [
    {
     "data": {
      "text/plain": [
       "array('Data science', dtype='<U12')"
      ]
     },
     "execution_count": 66,
     "metadata": {},
     "output_type": "execute_result"
    }
   ],
   "source": [
    "np.char.rstrip(s1)"
   ]
  },
  {
   "cell_type": "code",
   "execution_count": 67,
   "id": "f57cb3f5",
   "metadata": {},
   "outputs": [
    {
     "data": {
      "text/plain": [
       "array('Data science', dtype='<U12')"
      ]
     },
     "execution_count": 67,
     "metadata": {},
     "output_type": "execute_result"
    }
   ],
   "source": [
    "np.char.strip(s1)"
   ]
  },
  {
   "cell_type": "code",
   "execution_count": 68,
   "id": "ab9c5f2c",
   "metadata": {},
   "outputs": [
    {
     "data": {
      "text/plain": [
       "array(2)"
      ]
     },
     "execution_count": 68,
     "metadata": {},
     "output_type": "execute_result"
    }
   ],
   "source": [
    "np.char.find(s1,\"ta\")"
   ]
  },
  {
   "cell_type": "code",
   "execution_count": 69,
   "id": "01962f73",
   "metadata": {},
   "outputs": [
    {
     "data": {
      "text/plain": [
       "array(8)"
      ]
     },
     "execution_count": 69,
     "metadata": {},
     "output_type": "execute_result"
    }
   ],
   "source": [
    "np.char.find(s1,\"enc\")"
   ]
  },
  {
   "cell_type": "code",
   "execution_count": 70,
   "id": "b88c4a5a",
   "metadata": {},
   "outputs": [],
   "source": [
    "s2 = \"pythondatapythondatapythondata\""
   ]
  },
  {
   "cell_type": "code",
   "execution_count": 71,
   "id": "15bd6703",
   "metadata": {},
   "outputs": [
    {
     "data": {
      "text/plain": [
       "array(3)"
      ]
     },
     "execution_count": 71,
     "metadata": {},
     "output_type": "execute_result"
    }
   ],
   "source": [
    "np.char.count(s2,\"ata\")"
   ]
  },
  {
   "cell_type": "code",
   "execution_count": 72,
   "id": "861993e9",
   "metadata": {},
   "outputs": [],
   "source": [
    "s =  \"python is easy\""
   ]
  },
  {
   "cell_type": "code",
   "execution_count": 73,
   "id": "f3acdd34",
   "metadata": {},
   "outputs": [
    {
     "data": {
      "text/plain": [
       "'java is easy'"
      ]
     },
     "execution_count": 73,
     "metadata": {},
     "output_type": "execute_result"
    }
   ],
   "source": [
    "s1 = s.replace(\"python\",\"java\")\n",
    "s1"
   ]
  },
  {
   "cell_type": "code",
   "execution_count": 74,
   "id": "92fb6e5d",
   "metadata": {},
   "outputs": [
    {
     "data": {
      "text/plain": [
       "array('Python Is Easy', dtype='<U14')"
      ]
     },
     "execution_count": 74,
     "metadata": {},
     "output_type": "execute_result"
    }
   ],
   "source": [
    "np.char.title(s)"
   ]
  },
  {
   "cell_type": "code",
   "execution_count": 75,
   "id": "0496aa64",
   "metadata": {},
   "outputs": [
    {
     "data": {
      "text/plain": [
       "array('Python is easy', dtype='<U14')"
      ]
     },
     "execution_count": 75,
     "metadata": {},
     "output_type": "execute_result"
    }
   ],
   "source": [
    "np.char.capitalize(s)"
   ]
  },
  {
   "cell_type": "code",
   "execution_count": 76,
   "id": "cd526682",
   "metadata": {},
   "outputs": [
    {
     "data": {
      "text/plain": [
       "array('PYTHON IS EASY', dtype='<U14')"
      ]
     },
     "execution_count": 76,
     "metadata": {},
     "output_type": "execute_result"
    }
   ],
   "source": [
    "np.char.swapcase(s)"
   ]
  },
  {
   "cell_type": "code",
   "execution_count": 77,
   "id": "f3800d6b",
   "metadata": {},
   "outputs": [],
   "source": [
    "s = \" shweta \""
   ]
  },
  {
   "cell_type": "code",
   "execution_count": 78,
   "id": "223620be",
   "metadata": {},
   "outputs": [
    {
     "data": {
      "text/plain": [
       "array(False)"
      ]
     },
     "execution_count": 78,
     "metadata": {},
     "output_type": "execute_result"
    }
   ],
   "source": [
    "np.char.isupper(s)"
   ]
  },
  {
   "cell_type": "code",
   "execution_count": 79,
   "id": "d4201829",
   "metadata": {},
   "outputs": [
    {
     "data": {
      "text/plain": [
       "array(True)"
      ]
     },
     "execution_count": 79,
     "metadata": {},
     "output_type": "execute_result"
    }
   ],
   "source": [
    "np.char.islower(s)"
   ]
  },
  {
   "cell_type": "code",
   "execution_count": 80,
   "id": "2f047ddf",
   "metadata": {},
   "outputs": [
    {
     "data": {
      "text/plain": [
       "array(False)"
      ]
     },
     "execution_count": 80,
     "metadata": {},
     "output_type": "execute_result"
    }
   ],
   "source": [
    "np.char.istitle(s)"
   ]
  },
  {
   "cell_type": "code",
   "execution_count": 81,
   "id": "748073f4",
   "metadata": {},
   "outputs": [
    {
     "data": {
      "text/plain": [
       "array(False)"
      ]
     },
     "execution_count": 81,
     "metadata": {},
     "output_type": "execute_result"
    }
   ],
   "source": [
    "np.char.isspace(s)"
   ]
  },
  {
   "cell_type": "code",
   "execution_count": 82,
   "id": "a7702d94",
   "metadata": {},
   "outputs": [
    {
     "data": {
      "text/plain": [
       "array(False)"
      ]
     },
     "execution_count": 82,
     "metadata": {},
     "output_type": "execute_result"
    }
   ],
   "source": [
    "np.char.isalnum(s)"
   ]
  },
  {
   "cell_type": "code",
   "execution_count": 83,
   "id": "ad35d57c",
   "metadata": {},
   "outputs": [
    {
     "data": {
      "text/plain": [
       "array(False)"
      ]
     },
     "execution_count": 83,
     "metadata": {},
     "output_type": "execute_result"
    }
   ],
   "source": [
    "np.char.isdigit(s)"
   ]
  },
  {
   "cell_type": "code",
   "execution_count": 84,
   "id": "3fd69d90",
   "metadata": {},
   "outputs": [
    {
     "data": {
      "text/plain": [
       "array(False)"
      ]
     },
     "execution_count": 84,
     "metadata": {},
     "output_type": "execute_result"
    }
   ],
   "source": [
    "np.char.isalpha(s)"
   ]
  },
  {
   "cell_type": "code",
   "execution_count": 85,
   "id": "3f49b660",
   "metadata": {},
   "outputs": [],
   "source": [
    "s1 =\"learning python\""
   ]
  },
  {
   "cell_type": "code",
   "execution_count": 86,
   "id": "66d3fa63",
   "metadata": {},
   "outputs": [
    {
     "data": {
      "text/plain": [
       "array(True)"
      ]
     },
     "execution_count": 86,
     "metadata": {},
     "output_type": "execute_result"
    }
   ],
   "source": [
    "np.char.startswith(s1,\"learn\")"
   ]
  },
  {
   "cell_type": "code",
   "execution_count": 87,
   "id": "c29315b8",
   "metadata": {},
   "outputs": [
    {
     "data": {
      "text/plain": [
       "array(True)"
      ]
     },
     "execution_count": 87,
     "metadata": {},
     "output_type": "execute_result"
    }
   ],
   "source": [
    "np.char.endswith(s1,\"python\")"
   ]
  },
  {
   "cell_type": "code",
   "execution_count": null,
   "id": "018342c0",
   "metadata": {},
   "outputs": [],
   "source": []
  }
 ],
 "metadata": {
  "kernelspec": {
   "display_name": "Python 3 (ipykernel)",
   "language": "python",
   "name": "python3"
  },
  "language_info": {
   "codemirror_mode": {
    "name": "ipython",
    "version": 3
   },
   "file_extension": ".py",
   "mimetype": "text/x-python",
   "name": "python",
   "nbconvert_exporter": "python",
   "pygments_lexer": "ipython3",
   "version": "3.9.12"
  }
 },
 "nbformat": 4,
 "nbformat_minor": 5
}
