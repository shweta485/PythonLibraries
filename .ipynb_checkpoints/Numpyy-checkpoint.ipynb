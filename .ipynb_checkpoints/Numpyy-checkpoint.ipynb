{
 "cells": [
  {
   "cell_type": "code",
   "execution_count": null,
   "id": "8bd8c0ea",
   "metadata": {},
   "outputs": [],
   "source": [
    "# installing numpy module"
   ]
  },
  {
   "cell_type": "code",
   "execution_count": 2,
   "id": "a8b8809b",
   "metadata": {},
   "outputs": [
    {
     "name": "stdout",
     "output_type": "stream",
     "text": [
      "Requirement already satisfied: numpy in c:\\users\\thora\\anaconda3\\lib\\site-packages (1.21.5)\n"
     ]
    }
   ],
   "source": [
    "!pip install numpy"
   ]
  },
  {
   "cell_type": "code",
   "execution_count": 3,
   "id": "ce485c58",
   "metadata": {},
   "outputs": [],
   "source": [
    "# importing numpy module"
   ]
  },
  {
   "cell_type": "code",
   "execution_count": 6,
   "id": "c0b7b2a5",
   "metadata": {},
   "outputs": [],
   "source": [
    "import numpy as np"
   ]
  },
  {
   "cell_type": "code",
   "execution_count": 7,
   "id": "d34cd14a",
   "metadata": {},
   "outputs": [],
   "source": [
    "a = [1,2,3,4,5]"
   ]
  },
  {
   "cell_type": "code",
   "execution_count": 8,
   "id": "e9d152af",
   "metadata": {},
   "outputs": [
    {
     "data": {
      "text/plain": [
       "list"
      ]
     },
     "execution_count": 8,
     "metadata": {},
     "output_type": "execute_result"
    }
   ],
   "source": [
    "type(a)"
   ]
  },
  {
   "cell_type": "code",
   "execution_count": null,
   "id": "7b81596c",
   "metadata": {},
   "outputs": [],
   "source": [
    "# creating numpy array"
   ]
  },
  {
   "cell_type": "code",
   "execution_count": 9,
   "id": "449f883d",
   "metadata": {},
   "outputs": [],
   "source": [
    "a1 = np.array(a)"
   ]
  },
  {
   "cell_type": "code",
   "execution_count": 10,
   "id": "168353cd",
   "metadata": {},
   "outputs": [
    {
     "data": {
      "text/plain": [
       "numpy.ndarray"
      ]
     },
     "execution_count": 10,
     "metadata": {},
     "output_type": "execute_result"
    }
   ],
   "source": [
    "type(a1)"
   ]
  },
  {
   "cell_type": "code",
   "execution_count": 11,
   "id": "fadf34a1",
   "metadata": {},
   "outputs": [
    {
     "data": {
      "text/plain": [
       "array([1, 2, 3, 4, 5])"
      ]
     },
     "execution_count": 11,
     "metadata": {},
     "output_type": "execute_result"
    }
   ],
   "source": [
    "a1"
   ]
  },
  {
   "cell_type": "code",
   "execution_count": null,
   "id": "b4bf243c",
   "metadata": {},
   "outputs": [],
   "source": [
    "# This is use to check dimension of an array."
   ]
  },
  {
   "cell_type": "code",
   "execution_count": 12,
   "id": "f23cb0a5",
   "metadata": {},
   "outputs": [
    {
     "data": {
      "text/plain": [
       "1"
      ]
     },
     "execution_count": 12,
     "metadata": {},
     "output_type": "execute_result"
    }
   ],
   "source": [
    "a1.ndim"
   ]
  },
  {
   "cell_type": "code",
   "execution_count": null,
   "id": "11bcbceb",
   "metadata": {},
   "outputs": [],
   "source": [
    "#  This is use to check shape of  an array."
   ]
  },
  {
   "cell_type": "code",
   "execution_count": null,
   "id": "16a2b0cb",
   "metadata": {},
   "outputs": [],
   "source": [
    "# Shape: The number of elements along with each axis. It is from a tuple."
   ]
  },
  {
   "cell_type": "code",
   "execution_count": 13,
   "id": "11d6d423",
   "metadata": {},
   "outputs": [
    {
     "data": {
      "text/plain": [
       "(5,)"
      ]
     },
     "execution_count": 13,
     "metadata": {},
     "output_type": "execute_result"
    }
   ],
   "source": [
    "a1.shape"
   ]
  },
  {
   "cell_type": "code",
   "execution_count": 14,
   "id": "86daa6f5",
   "metadata": {},
   "outputs": [],
   "source": [
    "a = np.array([[1,2,3],[4,5,6]])"
   ]
  },
  {
   "cell_type": "code",
   "execution_count": null,
   "id": "ce050cb2",
   "metadata": {},
   "outputs": [],
   "source": [
    "# This is use to check type of an array"
   ]
  },
  {
   "cell_type": "code",
   "execution_count": 15,
   "id": "b6b52064",
   "metadata": {},
   "outputs": [
    {
     "data": {
      "text/plain": [
       "numpy.ndarray"
      ]
     },
     "execution_count": 15,
     "metadata": {},
     "output_type": "execute_result"
    }
   ],
   "source": [
    "type(a)"
   ]
  },
  {
   "cell_type": "code",
   "execution_count": 16,
   "id": "72c97735",
   "metadata": {},
   "outputs": [
    {
     "data": {
      "text/plain": [
       "2"
      ]
     },
     "execution_count": 16,
     "metadata": {},
     "output_type": "execute_result"
    }
   ],
   "source": [
    "a.ndim"
   ]
  },
  {
   "cell_type": "code",
   "execution_count": 17,
   "id": "493b7282",
   "metadata": {},
   "outputs": [
    {
     "data": {
      "text/plain": [
       "(2, 3)"
      ]
     },
     "execution_count": 17,
     "metadata": {},
     "output_type": "execute_result"
    }
   ],
   "source": [
    "a.shape"
   ]
  },
  {
   "cell_type": "code",
   "execution_count": null,
   "id": "4a620984",
   "metadata": {},
   "outputs": [],
   "source": [
    "# This is use to check type of array."
   ]
  },
  {
   "cell_type": "code",
   "execution_count": 18,
   "id": "0fc847c3",
   "metadata": {},
   "outputs": [
    {
     "data": {
      "text/plain": [
       "dtype('int32')"
      ]
     },
     "execution_count": 18,
     "metadata": {},
     "output_type": "execute_result"
    }
   ],
   "source": [
    "a.dtype"
   ]
  },
  {
   "cell_type": "code",
   "execution_count": null,
   "id": "8bde1516",
   "metadata": {},
   "outputs": [],
   "source": [
    "#  numpy.ones(): This function is used to get a new array of given shape and type, filled with ones(1)."
   ]
  },
  {
   "cell_type": "code",
   "execution_count": 19,
   "id": "54130341",
   "metadata": {},
   "outputs": [],
   "source": [
    "a = np.ones(5)"
   ]
  },
  {
   "cell_type": "code",
   "execution_count": 20,
   "id": "017f1a18",
   "metadata": {},
   "outputs": [
    {
     "data": {
      "text/plain": [
       "array([1., 1., 1., 1., 1.])"
      ]
     },
     "execution_count": 20,
     "metadata": {},
     "output_type": "execute_result"
    }
   ],
   "source": [
    "a"
   ]
  },
  {
   "cell_type": "code",
   "execution_count": 22,
   "id": "66840e89",
   "metadata": {},
   "outputs": [
    {
     "data": {
      "text/plain": [
       "array([[1., 1., 1., 1.],\n",
       "       [1., 1., 1., 1.],\n",
       "       [1., 1., 1., 1.]])"
      ]
     },
     "execution_count": 22,
     "metadata": {},
     "output_type": "execute_result"
    }
   ],
   "source": [
    "a = np.ones((3,4))\n",
    "a"
   ]
  },
  {
   "cell_type": "code",
   "execution_count": 23,
   "id": "076660b3",
   "metadata": {},
   "outputs": [
    {
     "data": {
      "text/plain": [
       "array([[[1., 1., 1., 1.],\n",
       "        [1., 1., 1., 1.],\n",
       "        [1., 1., 1., 1.]],\n",
       "\n",
       "       [[1., 1., 1., 1.],\n",
       "        [1., 1., 1., 1.],\n",
       "        [1., 1., 1., 1.]]])"
      ]
     },
     "execution_count": 23,
     "metadata": {},
     "output_type": "execute_result"
    }
   ],
   "source": [
    "a = np.ones((2,3,4))\n",
    "a"
   ]
  },
  {
   "cell_type": "code",
   "execution_count": null,
   "id": "8f85799e",
   "metadata": {},
   "outputs": [],
   "source": [
    "#  numpy.zeros(): This function is used to get a new array of given shape and type, filled with zeros(0). "
   ]
  },
  {
   "cell_type": "code",
   "execution_count": 24,
   "id": "1094c4e3",
   "metadata": {},
   "outputs": [],
   "source": [
    "a = np.zeros((2,3,4))"
   ]
  },
  {
   "cell_type": "code",
   "execution_count": 25,
   "id": "e4b673bd",
   "metadata": {},
   "outputs": [
    {
     "data": {
      "text/plain": [
       "array([[[0., 0., 0., 0.],\n",
       "        [0., 0., 0., 0.],\n",
       "        [0., 0., 0., 0.]],\n",
       "\n",
       "       [[0., 0., 0., 0.],\n",
       "        [0., 0., 0., 0.],\n",
       "        [0., 0., 0., 0.]]])"
      ]
     },
     "execution_count": 25,
     "metadata": {},
     "output_type": "execute_result"
    }
   ],
   "source": [
    "a"
   ]
  },
  {
   "cell_type": "code",
   "execution_count": 26,
   "id": "c2ddca16",
   "metadata": {},
   "outputs": [
    {
     "data": {
      "text/plain": [
       "array([1, 1, 1, 1, 1])"
      ]
     },
     "execution_count": 26,
     "metadata": {},
     "output_type": "execute_result"
    }
   ],
   "source": [
    "a = np.ones(5,dtype = int)\n",
    "a"
   ]
  },
  {
   "cell_type": "code",
   "execution_count": 27,
   "id": "b0593909",
   "metadata": {},
   "outputs": [],
   "source": [
    "a = np.ones(5,dtype = bool)"
   ]
  },
  {
   "cell_type": "code",
   "execution_count": 28,
   "id": "2536c592",
   "metadata": {},
   "outputs": [
    {
     "data": {
      "text/plain": [
       "array([ True,  True,  True,  True,  True])"
      ]
     },
     "execution_count": 28,
     "metadata": {},
     "output_type": "execute_result"
    }
   ],
   "source": [
    "a"
   ]
  },
  {
   "cell_type": "code",
   "execution_count": 29,
   "id": "2bede347",
   "metadata": {},
   "outputs": [],
   "source": [
    "a = np.ones(5,dtype = float)"
   ]
  },
  {
   "cell_type": "code",
   "execution_count": 30,
   "id": "889dfe59",
   "metadata": {},
   "outputs": [
    {
     "data": {
      "text/plain": [
       "array([1., 1., 1., 1., 1.])"
      ]
     },
     "execution_count": 30,
     "metadata": {},
     "output_type": "execute_result"
    }
   ],
   "source": [
    "a"
   ]
  },
  {
   "cell_type": "code",
   "execution_count": null,
   "id": "c61592bd",
   "metadata": {},
   "outputs": [],
   "source": [
    "#  numpy.empty(): This function create a new array of given shape and type, without initializing value."
   ]
  },
  {
   "cell_type": "code",
   "execution_count": null,
   "id": "00b9f626",
   "metadata": {},
   "outputs": [],
   "source": [
    "# Syntax: numpy.empty(shape, dtype=float, order=’C’)"
   ]
  },
  {
   "cell_type": "code",
   "execution_count": 31,
   "id": "bb1644b3",
   "metadata": {},
   "outputs": [
    {
     "data": {
      "text/plain": [
       "array([[1.28056463e-311, 4.67296746e-307],\n",
       "       [1.69121096e-306, 1.37961641e-306]])"
      ]
     },
     "execution_count": 31,
     "metadata": {},
     "output_type": "execute_result"
    }
   ],
   "source": [
    "np.empty((2,2))"
   ]
  },
  {
   "cell_type": "code",
   "execution_count": 32,
   "id": "824e2763",
   "metadata": {},
   "outputs": [
    {
     "data": {
      "text/plain": [
       "array([ 1,  2,  3,  4,  5,  6,  7,  8,  9, 10])"
      ]
     },
     "execution_count": 32,
     "metadata": {},
     "output_type": "execute_result"
    }
   ],
   "source": [
    "a = np.array ([1,2,3,4,5,6,7,8,9,10])\n",
    "a"
   ]
  },
  {
   "cell_type": "code",
   "execution_count": null,
   "id": "4dc7e1f0",
   "metadata": {},
   "outputs": [],
   "source": [
    "#  numpy.arange(): This is an inbuilt NumPy function that returns evenly spaced values within a given interval."
   ]
  },
  {
   "cell_type": "code",
   "execution_count": null,
   "id": "d101b013",
   "metadata": {},
   "outputs": [],
   "source": [
    "# syntax: numpy.arange([start, ]stop, [step, ]dtype=None)"
   ]
  },
  {
   "cell_type": "code",
   "execution_count": 33,
   "id": "b22c0b7c",
   "metadata": {},
   "outputs": [
    {
     "data": {
      "text/plain": [
       "array([ 12,  17,  22,  27,  32,  37,  42,  47,  52,  57,  62,  67,  72,\n",
       "        77,  82,  87,  92,  97, 102, 107, 112, 117, 122, 127, 132, 137,\n",
       "       142, 147, 152, 157, 162, 167, 172, 177, 182, 187, 192, 197])"
      ]
     },
     "execution_count": 33,
     "metadata": {},
     "output_type": "execute_result"
    }
   ],
   "source": [
    "np.arange(12,200,5)"
   ]
  },
  {
   "cell_type": "code",
   "execution_count": null,
   "id": "e3223207",
   "metadata": {},
   "outputs": [],
   "source": [
    "#  numpy.linspace(): This function returns evenly spaced numbers over a specified between two limits. "
   ]
  },
  {
   "cell_type": "code",
   "execution_count": null,
   "id": "8e12488a",
   "metadata": {},
   "outputs": [],
   "source": [
    "# Syntax: numpy.linspace(start, stop, num=50, endpoint=True, retstep=False, dtype=None, axis=0)"
   ]
  },
  {
   "cell_type": "code",
   "execution_count": 35,
   "id": "a4d9c666",
   "metadata": {},
   "outputs": [
    {
     "data": {
      "text/plain": [
       "array([ 1.        ,  1.64285714,  2.28571429,  2.92857143,  3.57142857,\n",
       "        4.21428571,  4.85714286,  5.5       ,  6.14285714,  6.78571429,\n",
       "        7.42857143,  8.07142857,  8.71428571,  9.35714286, 10.        ])"
      ]
     },
     "execution_count": 35,
     "metadata": {},
     "output_type": "execute_result"
    }
   ],
   "source": [
    "np.linspace(1,10,15)"
   ]
  },
  {
   "cell_type": "code",
   "execution_count": 38,
   "id": "4b67ab58",
   "metadata": {},
   "outputs": [
    {
     "data": {
      "text/plain": [
       "array([ 1,  2,  3,  4,  5,  6,  7,  8,  9, 10, 11, 12, 13, 14, 15])"
      ]
     },
     "execution_count": 38,
     "metadata": {},
     "output_type": "execute_result"
    }
   ],
   "source": [
    "a2 = np.arange(1,16)\n",
    "a2"
   ]
  },
  {
   "cell_type": "code",
   "execution_count": 39,
   "id": "08a6a1d3",
   "metadata": {},
   "outputs": [
    {
     "data": {
      "text/plain": [
       "15"
      ]
     },
     "execution_count": 39,
     "metadata": {},
     "output_type": "execute_result"
    }
   ],
   "source": [
    "len(a2)"
   ]
  },
  {
   "cell_type": "code",
   "execution_count": null,
   "id": "dd4677ef",
   "metadata": {},
   "outputs": [],
   "source": [
    "# Change the shape of an array without changing its data."
   ]
  },
  {
   "cell_type": "code",
   "execution_count": 44,
   "id": "e0e9f54d",
   "metadata": {},
   "outputs": [
    {
     "data": {
      "text/plain": [
       "array([[ 1,  2,  3,  4,  5],\n",
       "       [ 6,  7,  8,  9, 10],\n",
       "       [11, 12, 13, 14, 15]])"
      ]
     },
     "execution_count": 44,
     "metadata": {},
     "output_type": "execute_result"
    }
   ],
   "source": [
    "a2.reshape(3,5)"
   ]
  },
  {
   "cell_type": "code",
   "execution_count": 45,
   "id": "e5ff961c",
   "metadata": {},
   "outputs": [
    {
     "data": {
      "text/plain": [
       "array([[ 1,  2,  3],\n",
       "       [ 4,  5,  6],\n",
       "       [ 7,  8,  9],\n",
       "       [10, 11, 12],\n",
       "       [13, 14, 15]])"
      ]
     },
     "execution_count": 45,
     "metadata": {},
     "output_type": "execute_result"
    }
   ],
   "source": [
    "a2.reshape(5,3)"
   ]
  },
  {
   "cell_type": "code",
   "execution_count": 46,
   "id": "72c3ceec",
   "metadata": {},
   "outputs": [
    {
     "data": {
      "text/plain": [
       "array([[ 1],\n",
       "       [ 2],\n",
       "       [ 3],\n",
       "       [ 4],\n",
       "       [ 5],\n",
       "       [ 6],\n",
       "       [ 7],\n",
       "       [ 8],\n",
       "       [ 9],\n",
       "       [10],\n",
       "       [11],\n",
       "       [12],\n",
       "       [13],\n",
       "       [14],\n",
       "       [15]])"
      ]
     },
     "execution_count": 46,
     "metadata": {},
     "output_type": "execute_result"
    }
   ],
   "source": [
    "a2.reshape(15,1)"
   ]
  },
  {
   "cell_type": "code",
   "execution_count": 47,
   "id": "2a6c1a42",
   "metadata": {},
   "outputs": [
    {
     "data": {
      "text/plain": [
       "array([[ 1,  2,  3,  4,  5,  6,  7,  8,  9, 10, 11, 12, 13, 14, 15]])"
      ]
     },
     "execution_count": 47,
     "metadata": {},
     "output_type": "execute_result"
    }
   ],
   "source": [
    "a2.reshape(1,15)"
   ]
  },
  {
   "cell_type": "code",
   "execution_count": 48,
   "id": "6bdb1a51",
   "metadata": {},
   "outputs": [],
   "source": [
    "a3 = np.arange(1,25).reshape(6,4)"
   ]
  },
  {
   "cell_type": "code",
   "execution_count": 49,
   "id": "b3e81a94",
   "metadata": {},
   "outputs": [
    {
     "data": {
      "text/plain": [
       "array([[ 1,  2,  3,  4],\n",
       "       [ 5,  6,  7,  8],\n",
       "       [ 9, 10, 11, 12],\n",
       "       [13, 14, 15, 16],\n",
       "       [17, 18, 19, 20],\n",
       "       [21, 22, 23, 24]])"
      ]
     },
     "execution_count": 49,
     "metadata": {},
     "output_type": "execute_result"
    }
   ],
   "source": [
    "a3"
   ]
  },
  {
   "cell_type": "code",
   "execution_count": 50,
   "id": "9032bfe6",
   "metadata": {},
   "outputs": [],
   "source": [
    "a3 = np.arange(1,25).reshape(8,3)"
   ]
  },
  {
   "cell_type": "code",
   "execution_count": 51,
   "id": "ae6f252b",
   "metadata": {},
   "outputs": [
    {
     "data": {
      "text/plain": [
       "array([[ 1,  2,  3],\n",
       "       [ 4,  5,  6],\n",
       "       [ 7,  8,  9],\n",
       "       [10, 11, 12],\n",
       "       [13, 14, 15],\n",
       "       [16, 17, 18],\n",
       "       [19, 20, 21],\n",
       "       [22, 23, 24]])"
      ]
     },
     "execution_count": 51,
     "metadata": {},
     "output_type": "execute_result"
    }
   ],
   "source": [
    "a3"
   ]
  },
  {
   "cell_type": "code",
   "execution_count": 53,
   "id": "595e0f91",
   "metadata": {},
   "outputs": [
    {
     "data": {
      "text/plain": [
       "array([ 1,  2,  3,  4,  5,  6,  7,  8,  9, 10, 11, 12, 13, 14, 15, 16, 17,\n",
       "       18, 19, 20, 21, 22, 23, 24])"
      ]
     },
     "execution_count": 53,
     "metadata": {},
     "output_type": "execute_result"
    }
   ],
   "source": [
    "a3 = np.arange(1,25)\n",
    "a3"
   ]
  },
  {
   "cell_type": "code",
   "execution_count": 54,
   "id": "cf47ad4c",
   "metadata": {},
   "outputs": [
    {
     "data": {
      "text/plain": [
       "array([[[ 1,  2,  3],\n",
       "        [ 4,  5,  6],\n",
       "        [ 7,  8,  9],\n",
       "        [10, 11, 12]],\n",
       "\n",
       "       [[13, 14, 15],\n",
       "        [16, 17, 18],\n",
       "        [19, 20, 21],\n",
       "        [22, 23, 24]]])"
      ]
     },
     "execution_count": 54,
     "metadata": {},
     "output_type": "execute_result"
    }
   ],
   "source": [
    "a3.reshape(2,4,3)"
   ]
  },
  {
   "cell_type": "code",
   "execution_count": 55,
   "id": "38816962",
   "metadata": {},
   "outputs": [
    {
     "ename": "ValueError",
     "evalue": "cannot reshape array of size 24 into shape (2,4,6)",
     "output_type": "error",
     "traceback": [
      "\u001b[1;31m---------------------------------------------------------------------------\u001b[0m",
      "\u001b[1;31mValueError\u001b[0m                                Traceback (most recent call last)",
      "Input \u001b[1;32mIn [55]\u001b[0m, in \u001b[0;36m<cell line: 1>\u001b[1;34m()\u001b[0m\n\u001b[1;32m----> 1\u001b[0m a3 \u001b[38;5;241m=\u001b[39m \u001b[43mnp\u001b[49m\u001b[38;5;241;43m.\u001b[39;49m\u001b[43marange\u001b[49m\u001b[43m(\u001b[49m\u001b[38;5;241;43m1\u001b[39;49m\u001b[43m,\u001b[49m\u001b[38;5;241;43m25\u001b[39;49m\u001b[43m)\u001b[49m\u001b[38;5;241;43m.\u001b[39;49m\u001b[43mreshape\u001b[49m\u001b[43m(\u001b[49m\u001b[38;5;241;43m2\u001b[39;49m\u001b[43m,\u001b[49m\u001b[38;5;241;43m4\u001b[39;49m\u001b[43m,\u001b[49m\u001b[38;5;241;43m6\u001b[39;49m\u001b[43m)\u001b[49m\n\u001b[0;32m      2\u001b[0m a3\n",
      "\u001b[1;31mValueError\u001b[0m: cannot reshape array of size 24 into shape (2,4,6)"
     ]
    }
   ],
   "source": [
    "a3 = np.arange(1,25).reshape(2,4,6)\n",
    "a3"
   ]
  },
  {
   "cell_type": "code",
   "execution_count": 58,
   "id": "8dcad568",
   "metadata": {},
   "outputs": [
    {
     "data": {
      "text/plain": [
       "array([[ 1,  2,  3,  4,  5,  6,  7,  8,  9, 10, 11, 12, 13, 14, 15, 16,\n",
       "        17, 18, 19, 20, 21, 22, 23, 24]])"
      ]
     },
     "execution_count": 58,
     "metadata": {},
     "output_type": "execute_result"
    }
   ],
   "source": [
    "a3.reshape(1,-1)"
   ]
  },
  {
   "cell_type": "code",
   "execution_count": 59,
   "id": "88574a56",
   "metadata": {},
   "outputs": [
    {
     "data": {
      "text/plain": [
       "array([[ 1],\n",
       "       [ 2],\n",
       "       [ 3],\n",
       "       [ 4],\n",
       "       [ 5],\n",
       "       [ 6],\n",
       "       [ 7],\n",
       "       [ 8],\n",
       "       [ 9],\n",
       "       [10],\n",
       "       [11],\n",
       "       [12],\n",
       "       [13],\n",
       "       [14],\n",
       "       [15],\n",
       "       [16],\n",
       "       [17],\n",
       "       [18],\n",
       "       [19],\n",
       "       [20],\n",
       "       [21],\n",
       "       [22],\n",
       "       [23],\n",
       "       [24]])"
      ]
     },
     "execution_count": 59,
     "metadata": {},
     "output_type": "execute_result"
    }
   ],
   "source": [
    "a3.reshape(-1,1)"
   ]
  },
  {
   "cell_type": "code",
   "execution_count": 56,
   "id": "4b33a041",
   "metadata": {},
   "outputs": [
    {
     "data": {
      "text/plain": [
       "array([ 1,  2,  3,  4,  5,  6,  7,  8,  9, 10, 11, 12, 13, 14, 15, 16, 17,\n",
       "       18, 19, 20, 21, 22, 23, 24])"
      ]
     },
     "execution_count": 56,
     "metadata": {},
     "output_type": "execute_result"
    }
   ],
   "source": [
    "a3.ravel()"
   ]
  },
  {
   "cell_type": "code",
   "execution_count": 60,
   "id": "b9d83bca",
   "metadata": {},
   "outputs": [
    {
     "data": {
      "text/plain": [
       "array([ 1,  2,  3,  4,  5,  6,  7,  8,  9, 10, 11, 12, 13, 14, 15, 16, 17,\n",
       "       18, 19, 20, 21, 22, 23, 24])"
      ]
     },
     "execution_count": 60,
     "metadata": {},
     "output_type": "execute_result"
    }
   ],
   "source": [
    "a3.flatten(order='F')"
   ]
  },
  {
   "cell_type": "code",
   "execution_count": 62,
   "id": "5406b24c",
   "metadata": {},
   "outputs": [
    {
     "data": {
      "text/plain": [
       "array([ 1,  2,  3,  4,  5,  6,  7,  8,  9, 10, 11, 12, 13, 14, 15, 16, 17,\n",
       "       18, 19, 20, 21, 22, 23, 24])"
      ]
     },
     "execution_count": 62,
     "metadata": {},
     "output_type": "execute_result"
    }
   ],
   "source": [
    "a3.flatten(order='c')"
   ]
  },
  {
   "cell_type": "code",
   "execution_count": null,
   "id": "0956b72d",
   "metadata": {},
   "outputs": [],
   "source": [
    "# Return a copy of the array collapsed into one dimension."
   ]
  },
  {
   "cell_type": "code",
   "execution_count": 63,
   "id": "343608c3",
   "metadata": {},
   "outputs": [
    {
     "data": {
      "text/plain": [
       "array([ 1,  2,  3,  4,  5,  6,  7,  8,  9, 10, 11, 12, 13, 14, 15, 16, 17,\n",
       "       18, 19, 20, 21, 22, 23, 24])"
      ]
     },
     "execution_count": 63,
     "metadata": {},
     "output_type": "execute_result"
    }
   ],
   "source": [
    "a3.flatten()"
   ]
  },
  {
   "cell_type": "code",
   "execution_count": 64,
   "id": "eb97875f",
   "metadata": {},
   "outputs": [
    {
     "data": {
      "text/plain": [
       "array([[ 1,  2,  3,  4,  5],\n",
       "       [ 6,  7,  8,  9, 10],\n",
       "       [11, 12, 13, 14, 15]])"
      ]
     },
     "execution_count": 64,
     "metadata": {},
     "output_type": "execute_result"
    }
   ],
   "source": [
    "a4 = np.arange(1,16).reshape(3,5)\n",
    "a4"
   ]
  },
  {
   "cell_type": "code",
   "execution_count": null,
   "id": "c07d224c",
   "metadata": {},
   "outputs": [],
   "source": [
    "# It Turns rows into columns and columns into rows"
   ]
  },
  {
   "cell_type": "code",
   "execution_count": 65,
   "id": "2e94c8e9",
   "metadata": {},
   "outputs": [
    {
     "data": {
      "text/plain": [
       "array([[ 1,  6, 11],\n",
       "       [ 2,  7, 12],\n",
       "       [ 3,  8, 13],\n",
       "       [ 4,  9, 14],\n",
       "       [ 5, 10, 15]])"
      ]
     },
     "execution_count": 65,
     "metadata": {},
     "output_type": "execute_result"
    }
   ],
   "source": [
    "a4.transpose()"
   ]
  },
  {
   "cell_type": "code",
   "execution_count": 66,
   "id": "b5b940ab",
   "metadata": {},
   "outputs": [
    {
     "data": {
      "text/plain": [
       "array([[ 1,  2,  3],\n",
       "       [ 4,  5,  6],\n",
       "       [ 7,  8,  9],\n",
       "       [10, 11, 12],\n",
       "       [13, 14, 15]])"
      ]
     },
     "execution_count": 66,
     "metadata": {},
     "output_type": "execute_result"
    }
   ],
   "source": [
    "a4 = np.arange(1,16).reshape(5,3)\n",
    "a4"
   ]
  },
  {
   "cell_type": "code",
   "execution_count": null,
   "id": "c27c7138",
   "metadata": {},
   "outputs": [],
   "source": [
    "# Reverse or permute the axes of an array; returns the modified array.\n",
    "\n",
    "# For an array a with two axes, transpose(a) gives the matrix transpose."
   ]
  },
  {
   "cell_type": "code",
   "execution_count": 67,
   "id": "bb9f7d2c",
   "metadata": {},
   "outputs": [
    {
     "data": {
      "text/plain": [
       "array([[ 1,  4,  7, 10, 13],\n",
       "       [ 2,  5,  8, 11, 14],\n",
       "       [ 3,  6,  9, 12, 15]])"
      ]
     },
     "execution_count": 67,
     "metadata": {},
     "output_type": "execute_result"
    }
   ],
   "source": [
    "a4.transpose()"
   ]
  },
  {
   "cell_type": "code",
   "execution_count": null,
   "id": "a4e180a8",
   "metadata": {},
   "outputs": [],
   "source": [
    "6. Write a NumPy program to reverse an array (first element becomes last). Go to the editor\n",
    "Original array:\n",
    "[12 13 14 15 16 17 18 19 20 21 22 23 24 25 26 27 28 29 30 31 32 33 34 35 36 37]\n",
    "Reverse array:\n",
    "[37 36 35 34 33 32 31 30 29 28 27 26 25 24 23 22 21 20 19 18 17 16 15 14 13 12]"
   ]
  },
  {
   "cell_type": "code",
   "execution_count": 7,
   "id": "1b67884e",
   "metadata": {},
   "outputs": [],
   "source": [
    "a = np.arange(12,38)"
   ]
  },
  {
   "cell_type": "code",
   "execution_count": 8,
   "id": "f6f4646b",
   "metadata": {},
   "outputs": [
    {
     "data": {
      "text/plain": [
       "array([12, 13, 14, 15, 16, 17, 18, 19, 20, 21, 22, 23, 24, 25, 26, 27, 28,\n",
       "       29, 30, 31, 32, 33, 34, 35, 36, 37])"
      ]
     },
     "execution_count": 8,
     "metadata": {},
     "output_type": "execute_result"
    }
   ],
   "source": [
    "a"
   ]
  },
  {
   "cell_type": "code",
   "execution_count": 9,
   "id": "3eb0c32d",
   "metadata": {},
   "outputs": [
    {
     "data": {
      "text/plain": [
       "array([37, 36, 35, 34, 33, 32, 31, 30, 29, 28, 27, 26, 25, 24, 23, 22, 21,\n",
       "       20, 19, 18, 17, 16, 15, 14, 13, 12])"
      ]
     },
     "execution_count": 9,
     "metadata": {},
     "output_type": "execute_result"
    }
   ],
   "source": [
    "a[::-1]"
   ]
  },
  {
   "cell_type": "code",
   "execution_count": null,
   "id": "68d6d37b",
   "metadata": {},
   "outputs": [],
   "source": [
    "7. Write a NumPy program to convert an array to a float type. Go to the editor\n",
    "Sample output:\n",
    "Original array\n",
    "[1, 2, 3, 4]\n",
    "Array converted to a float type:\n",
    "[ 1. 2. 3. 4.]"
   ]
  }
 ],
 "metadata": {
  "kernelspec": {
   "display_name": "Python 3 (ipykernel)",
   "language": "python",
   "name": "python3"
  },
  "language_info": {
   "codemirror_mode": {
    "name": "ipython",
    "version": 3
   },
   "file_extension": ".py",
   "mimetype": "text/x-python",
   "name": "python",
   "nbconvert_exporter": "python",
   "pygments_lexer": "ipython3",
   "version": "3.9.12"
  }
 },
 "nbformat": 4,
 "nbformat_minor": 5
}
